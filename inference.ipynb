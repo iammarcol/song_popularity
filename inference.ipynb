{
 "cells": [
  {
   "cell_type": "code",
   "execution_count": 18,
   "metadata": {},
   "outputs": [],
   "source": [
    "import librosa\n",
    "import numpy as np\n",
    "import pandas as pd\n",
    "import xgboost as xgb\n",
    "import joblib\n",
    "from sklearn.preprocessing import StandardScaler\n"
   ]
  },
  {
   "cell_type": "code",
   "execution_count": 19,
   "metadata": {},
   "outputs": [
    {
     "name": "stdout",
     "output_type": "stream",
     "text": [
      "Model loaded successfully!\n"
     ]
    }
   ],
   "source": [
    "\n",
    "# Load the model\n",
    "loaded_model = xgb.Booster()\n",
    "loaded_model.load_model(\"xgb_popularity_model.json\")\n",
    "\n",
    "print(\"Model loaded successfully!\")\n"
   ]
  },
  {
   "cell_type": "code",
   "execution_count": 22,
   "metadata": {},
   "outputs": [
    {
     "name": "stderr",
     "output_type": "stream",
     "text": [
      "/var/folders/48/f5vvvqhn21dg8qqqqyd_7fdm0000gn/T/ipykernel_18892/2944835414.py:8: FutureWarning: librosa.beat.tempo\n",
      "\tThis function was moved to 'librosa.feature.rhythm.tempo' in librosa version 0.10.0.\n",
      "\tThis alias will be removed in librosa version 1.0.\n",
      "  tempo = librosa.beat.tempo(y=y, sr=sr)[0]\n"
     ]
    },
    {
     "name": "stdout",
     "output_type": "stream",
     "text": [
      "Features including duration_ms saved to: inference_results.csv\n"
     ]
    }
   ],
   "source": [
    "# Path to your audio file\n",
    "filename = '/Users/markol/Downloads/MemoryBlues(OfficialAudio).wav'\n",
    "\n",
    "# Load audio\n",
    "y, sr = librosa.load(filename, sr=None)\n",
    "\n",
    "\n",
    "tempo = librosa.beat.tempo(y=y, sr=sr)[0]\n",
    "energy = np.mean(librosa.feature.rms(y=y))\n",
    "loudness = 20 * np.log10(energy)\n",
    "\n",
    "# chroma\n",
    "chroma = librosa.feature.chroma_cqt(y=y, sr=sr)\n",
    "\n",
    "# key as an integer\n",
    "key_strength = np.sum(chroma, axis=1)  # Sum chroma bins\n",
    "key_index = np.argmax(key_strength)  # Index of the strongest key (integer representation)\n",
    "key = key_index  # Save key as an integer\n",
    "\n",
    "# mode (major/minor)\n",
    "mode = 1 if key_strength[key_index] > np.mean(key_strength) else 0  # Major = 1, Minor = 0\n",
    "\n",
    "# duration in [ms]\n",
    "duration_ms = int(librosa.get_duration(y=y, sr=sr) * 1000)\n",
    "\n",
    "# FEATURES\n",
    "features = {\n",
    "    'energy': [energy],\n",
    "    'key': [key],  # Key as integer\n",
    "    'loudness': [loudness],\n",
    "    'mode': [mode],  # Major (1) or Minor (0)\n",
    "    'tempo': [tempo],\n",
    "    'duration_ms': [duration_ms]  # Duration in milliseconds\n",
    "}\n",
    "\n",
    "# Create DataFrame\n",
    "df = pd.DataFrame(features)\n",
    "\n",
    "# Save to CSV\n",
    "output_path = 'inference_results.csv'\n",
    "df.to_csv(output_path, index=False)\n",
    "\n",
    "print(f\"Features including duration_ms saved to: {output_path}\")\n"
   ]
  },
  {
   "cell_type": "code",
   "execution_count": 23,
   "metadata": {},
   "outputs": [],
   "source": [
    "xgb_model = xgb.Booster()\n",
    "xgb_model.load_model(\"model/xgb_popularity_model.json\")  # Load the JSON model\n",
    "\n",
    "scaler = joblib.load(\"scaler.joblib\")  \n",
    "\n",
    "new_song_features = df[ ['energy', 'key', 'loudness', 'mode', 'tempo', 'duration_ms']]  # Adjust columns if needed\n",
    "\n"
   ]
  },
  {
   "cell_type": "code",
   "execution_count": 24,
   "metadata": {},
   "outputs": [
    {
     "name": "stdout",
     "output_type": "stream",
     "text": [
      "     energy  key   loudness  mode       tempo  duration_ms   \n",
      "0  0.240512    1 -12.377272     1  129.199219       257319  \\\n",
      "\n",
      "   predicted_popularity  \n",
      "0             45.202209  \n"
     ]
    },
    {
     "name": "stderr",
     "output_type": "stream",
     "text": [
      "/Users/markol/miniconda3/envs/tensorflow/lib/python3.10/site-packages/sklearn/base.py:432: UserWarning: X has feature names, but StandardScaler was fitted without feature names\n",
      "  warnings.warn(\n"
     ]
    }
   ],
   "source": [
    "new_song_scaled = scaler.transform(new_song_features)\n",
    "dmatrix_features = xgb.DMatrix(new_song_scaled)\n",
    "\n",
    "# predict\n",
    "predictions = xgb_model.predict(dmatrix_features)\n",
    "df['predicted_popularity'] = predictions\n",
    "print(df)\n"
   ]
  }
 ],
 "metadata": {
  "kernelspec": {
   "display_name": "tensorflow",
   "language": "python",
   "name": "python3"
  },
  "language_info": {
   "codemirror_mode": {
    "name": "ipython",
    "version": 3
   },
   "file_extension": ".py",
   "mimetype": "text/x-python",
   "name": "python",
   "nbconvert_exporter": "python",
   "pygments_lexer": "ipython3",
   "version": "3.10.10"
  }
 },
 "nbformat": 4,
 "nbformat_minor": 2
}
